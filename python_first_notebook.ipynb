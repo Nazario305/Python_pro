{
 "cells": [
  {
   "cell_type": "code",
   "execution_count": 1,
   "id": "6cf857fd-5c40-41ee-bf6d-43889dceb893",
   "metadata": {},
   "outputs": [
    {
     "name": "stdout",
     "output_type": "stream",
     "text": [
      "Nazar\n"
     ]
    }
   ],
   "source": [
    "print (\"Nazar\")"
   ]
  },
  {
   "cell_type": "code",
   "execution_count": null,
   "id": "abd58210-9d9d-4065-9ea5-df091d427ff5",
   "metadata": {},
   "outputs": [],
   "source": []
  },
  {
   "cell_type": "code",
   "execution_count": null,
   "id": "990d1cd9-4d8c-48b3-afe3-b49f04b20a79",
   "metadata": {},
   "outputs": [],
   "source": []
  }
 ],
 "metadata": {
  "kernelspec": {
   "display_name": "Python 3 (ipykernel)",
   "language": "python",
   "name": "python3"
  },
  "language_info": {
   "codemirror_mode": {
    "name": "ipython",
    "version": 3
   },
   "file_extension": ".py",
   "mimetype": "text/x-python",
   "name": "python",
   "nbconvert_exporter": "python",
   "pygments_lexer": "ipython3",
   "version": "3.9.10"
  }
 },
 "nbformat": 4,
 "nbformat_minor": 5
}
